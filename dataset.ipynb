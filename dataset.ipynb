{
 "cells": [
  {
   "cell_type": "code",
   "execution_count": 1,
   "metadata": {},
   "outputs": [],
   "source": [
    "# import required libraries\n",
    "import cv2\n",
    "import matplotlib.pyplot as plt\n",
    "import os\n",
    "import numpy as np\n",
    "import pandas as pd\n"
   ]
  },
  {
   "cell_type": "code",
   "execution_count": 3,
   "metadata": {},
   "outputs": [
    {
     "name": "stdout",
     "output_type": "stream",
     "text": [
      "Requirement already satisfied: numpy-stl in e:\\vscode_workspace\\gastrointestinal_disease\\env\\lib\\site-packages (3.1.1)\n",
      "Requirement already satisfied: numpy in e:\\vscode_workspace\\gastrointestinal_disease\\env\\lib\\site-packages (from numpy-stl) (1.26.4)\n",
      "Requirement already satisfied: python-utils>=3.4.5 in e:\\vscode_workspace\\gastrointestinal_disease\\env\\lib\\site-packages (from numpy-stl) (3.8.2)\n",
      "Requirement already satisfied: typing-extensions>3.10.0.2 in e:\\vscode_workspace\\gastrointestinal_disease\\env\\lib\\site-packages (from python-utils>=3.4.5->numpy-stl) (4.10.0)\n",
      "Collecting trimesh\n",
      "  Downloading trimesh-4.3.1-py3-none-any.whl.metadata (18 kB)\n",
      "Requirement already satisfied: numpy>=1.20 in e:\\vscode_workspace\\gastrointestinal_disease\\env\\lib\\site-packages (from trimesh) (1.26.4)\n",
      "Downloading trimesh-4.3.1-py3-none-any.whl (693 kB)\n",
      "   ---------------------------------------- 0.0/693.8 kB ? eta -:--:--\n",
      "    --------------------------------------- 10.2/693.8 kB ? eta -:--:--\n",
      "   -- ------------------------------------ 41.0/693.8 kB 487.6 kB/s eta 0:00:02\n",
      "   ------ ------------------------------- 112.6/693.8 kB 939.4 kB/s eta 0:00:01\n",
      "   ----------- ---------------------------- 204.8/693.8 kB 1.2 MB/s eta 0:00:01\n",
      "   ------------------ --------------------- 317.4/693.8 kB 1.5 MB/s eta 0:00:01\n",
      "   ------------------------ --------------- 419.8/693.8 kB 1.6 MB/s eta 0:00:01\n",
      "   ------------------------------ --------- 532.5/693.8 kB 1.8 MB/s eta 0:00:01\n",
      "   ------------------------------------- -- 645.1/693.8 kB 1.8 MB/s eta 0:00:01\n",
      "   ---------------------------------------- 693.8/693.8 kB 1.8 MB/s eta 0:00:00\n",
      "Installing collected packages: trimesh\n",
      "Successfully installed trimesh-4.3.1\n"
     ]
    }
   ],
   "source": [
    "!pip install numpy-stl\n",
    "!pip install trimesh"
   ]
  },
  {
   "cell_type": "code",
   "execution_count": 10,
   "metadata": {},
   "outputs": [],
   "source": [
    "pair_path = \"wb_2D3Dretrieval_dataset/pairs\"\n",
    "pair_print = os.path.join(pair_path,'print') \n",
    "\n",
    "arr = []\n",
    "for file in os.listdir(pair_print):  \n",
    "    path = os.path.join(pair_print,file)\n",
    "    img = cv2.imread(path)\n",
    "    if img.shape != (512, 512, 3):\n",
    "        print(\"Another size\")\n",
    "    arr.append(img)\n"
   ]
  },
  {
   "cell_type": "code",
   "execution_count": 6,
   "metadata": {},
   "outputs": [
    {
     "data": {
      "text/plain": [
       "(228, 512, 512, 3)"
      ]
     },
     "execution_count": 6,
     "metadata": {},
     "output_type": "execute_result"
    }
   ],
   "source": [
    "arr_np = np.array(arr)\n",
    "arr_np.shape"
   ]
  },
  {
   "cell_type": "code",
   "execution_count": 15,
   "metadata": {},
   "outputs": [],
   "source": [
    "pair_path = \"wb_2D3Dretrieval_dataset/queries\"\n",
    "\n",
    "arr_queries = []\n",
    "for file in os.listdir(pair_path):  \n",
    "    path = os.path.join(pair_path,file)\n",
    "    img = cv2.imread(path)\n",
    "    if img.shape != (512, 512, 3):\n",
    "        print(\"Another size\")\n",
    "    arr_queries.append(img)\n",
    "    # print(file)\n"
   ]
  },
  {
   "cell_type": "code",
   "execution_count": 16,
   "metadata": {},
   "outputs": [
    {
     "data": {
      "text/plain": [
       "(252, 512, 512, 3)"
      ]
     },
     "execution_count": 16,
     "metadata": {},
     "output_type": "execute_result"
    }
   ],
   "source": [
    "queries = np.array(arr_queries)\n",
    "queries.shape"
   ]
  },
  {
   "cell_type": "code",
   "execution_count": 17,
   "metadata": {},
   "outputs": [],
   "source": [
    "pair_path = \"wb_2D3Dretrieval_dataset/pairs\"\n",
    "pair_print = os.path.join(pair_path,'print') \n",
    "pair_process = os.path.join(pair_path,'process_print')\n",
    "if not os.path.exists(pair_process):\n",
    "    os.mkdir(pair_process) \n",
    "\n",
    "\n",
    "for file in os.listdir(pair_print):  \n",
    "    path = os.path.join(pair_print,file)\n",
    "    img = cv2.imread(path)\n",
    "    gray = cv2.cvtColor(img, cv2.COLOR_BGR2GRAY)\n",
    "    ret,thresh = cv2.threshold(gray,150,255,0)\n",
    "    out_path = os.path.join(pair_process,file) \n",
    "    cv2.imwrite(out_path, thresh)\n",
    "\n",
    "\n",
    "queries_path = 'wb_2D3Dretrieval_dataset/pairs'\n",
    "queries_print = os.path.join(queries_path,'print') \n",
    "queries_process = os.path.join(queries_path,'process_print')\n",
    "if not os.path.exists(queries_process):\n",
    "    os.mkdir(queries_process) \n",
    "\n",
    "\n",
    "for file in os.listdir(queries_print):  \n",
    "    path = os.path.join(queries_print,file)\n",
    "    img = cv2.imread(path)\n",
    "    gray = cv2.cvtColor(img, cv2.COLOR_BGR2GRAY)\n",
    "    ret,thresh = cv2.threshold(gray,150,255,0)\n",
    "    out_path = os.path.join(queries_process,file) \n",
    "    cv2.imwrite(out_path, thresh)"
   ]
  },
  {
   "cell_type": "code",
   "execution_count": 20,
   "metadata": {},
   "outputs": [
    {
     "data": {
      "image/png": "[encoded data removed]",
      "text/plain": [
       "<Figure size 640x480 with 1 Axes>"
      ]
     },
     "metadata": {},
     "output_type": "display_data"
    }
   ],
   "source": [
    "img = cv2.imread('wb_2D3Dretrieval_dataset/pairs/process_print/137.png')\n",
    "\n",
    "plt.subplot(133),plt.imshow(img,cmap = 'gray'),plt.axis('off')\n",
    "plt.show()"
   ]
  },
  {
   "cell_type": "code",
   "execution_count": null,
   "metadata": {},
   "outputs": [],
   "source": []
  },
  {
   "cell_type": "code",
   "execution_count": 17,
   "metadata": {},
   "outputs": [],
   "source": [
    "import numpy\n",
    "from stl import mesh\n",
    "\n",
    "# Using an existing stl file:\n",
    "your_mesh = mesh.Mesh.from_file('wb_2D3Dretrieval_dataset/database/200.stl')"
   ]
  },
  {
   "cell_type": "code",
   "execution_count": 18,
   "metadata": {},
   "outputs": [
    {
     "data": {
      "text/plain": [
       "stl.mesh.Mesh"
      ]
     },
     "execution_count": 18,
     "metadata": {},
     "output_type": "execute_result"
    }
   ],
   "source": [
    "type(your_mesh)"
   ]
  },
  {
   "cell_type": "code",
   "execution_count": 19,
   "metadata": {},
   "outputs": [],
   "source": [
    "meshnp = np.array(your_mesh)"
   ]
  },
  {
   "cell_type": "code",
   "execution_count": 20,
   "metadata": {},
   "outputs": [
    {
     "data": {
      "text/plain": [
       "(130325, 9)"
      ]
     },
     "execution_count": 20,
     "metadata": {},
     "output_type": "execute_result"
    }
   ],
   "source": [
    "meshnp.shape"
   ]
  }
 ],
 "metadata": {
  "kernelspec": {
   "display_name": "Python 3",
   "language": "python",
   "name": "python3"
  },
  "language_info": {
   "codemirror_mode": {
    "name": "ipython",
    "version": 3
   },
   "file_extension": ".py",
   "mimetype": "text/x-python",
   "name": "python",
   "nbconvert_exporter": "python",
   "pygments_lexer": "ipython3",
   "version": "3.10.14"
  }
 },
 "nbformat": 4,
 "nbformat_minor": 2
}
